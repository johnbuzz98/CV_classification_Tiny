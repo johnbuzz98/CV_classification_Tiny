{
 "cells": [
  {
   "cell_type": "code",
   "execution_count": null,
   "metadata": {},
   "outputs": [],
   "source": []
  }
 ],
 "metadata": {
  "kernelspec": {
   "display_name": "analytics_torch",
   "language": "python",
   "name": "python3"
  },
  "language_info": {
   "name": "python",
   "version": "3.8.5 | packaged by conda-forge | (default, Sep 16 2020, 17:46:27) \n[Clang 11.0.0 ]"
  },
  "orig_nbformat": 4,
  "vscode": {
   "interpreter": {
    "hash": "d5e15965aeb5d02212cf9fcc929c38b5dd695ba086230b7f5fac031f35143031"
   }
  }
 },
 "nbformat": 4,
 "nbformat_minor": 2
}
